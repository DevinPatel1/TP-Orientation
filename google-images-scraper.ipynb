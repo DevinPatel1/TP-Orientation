{
 "cells": [
  {
   "cell_type": "markdown",
   "metadata": {},
   "source": [
    "# Google Images Scraper\n",
    "\n",
    "Author: Devin Patel  \n",
    "Purpose: To build a repository of images of toilet paper  \n",
    "Tutorial Source: [How To Web Scrape & Download Images With Python](https://www.youtube.com/watch?v=NBuED2PivbY)  "
   ]
  },
  {
   "cell_type": "markdown",
   "metadata": {},
   "source": [
    "## Web Driver"
   ]
  },
  {
   "cell_type": "code",
   "execution_count": 1,
   "metadata": {},
   "outputs": [],
   "source": [
    "# Using selenium\n",
    "from selenium import webdriver\n",
    "\n",
    "options = webdriver.FirefoxOptions()\n",
    "# options.add_argument(\"--headless\") # Windowless Firefox browser\n",
    "wd = webdriver.Firefox(options=options)\n"
   ]
  },
  {
   "cell_type": "markdown",
   "metadata": {},
   "source": [
    "## Image Scraper"
   ]
  },
  {
   "cell_type": "code",
   "execution_count": 2,
   "metadata": {},
   "outputs": [],
   "source": [
    "## Imports ##\n",
    "import requests\n",
    "from PIL import Image\n",
    "import os\n",
    "import io\n",
    "\n",
    "## Constants ##\n",
    "IMAGES_DIR = 'images'\n",
    "\n",
    "\n",
    "## Functions ##\n",
    "\n",
    "# Downloads an image given its src URL\n",
    "def download_png(filename, url):\n",
    "    img_content = requests.get(url).content\n",
    "    img_file = io.BytesIO(img_content)\n",
    "    img = Image.open(img_file).convert('RGB')\n",
    "    \n",
    "    filepath = os.path.join(IMAGES_DIR, filename)\n",
    "    \n",
    "    # Check if image directory exists\n",
    "    if not os.path.dirname(filepath):\n",
    "        os.makedirs(os.path.dirname(filepath))\n",
    "    \n",
    "    # Check if image exists, raise exception if so\n",
    "    if os.path.exists(filepath):\n",
    "        raise Exception(f\"File {filename} already exists in {IMAGES_DIR}\")\n",
    "    \n",
    "    # Save image\n",
    "    with open(filepath, 'wb') as f:\n",
    "        img.save(f, \"PNG\")\n",
    "\n",
    "\n",
    "def get_images_from_google(wd, delay, max_imgs):\n",
    "    pass\n"
   ]
  }
 ],
 "metadata": {
  "kernelspec": {
   "display_name": "tp-orientation-env",
   "language": "python",
   "name": "python3"
  },
  "language_info": {
   "codemirror_mode": {
    "name": "ipython",
    "version": 3
   },
   "file_extension": ".py",
   "mimetype": "text/x-python",
   "name": "python",
   "nbconvert_exporter": "python",
   "pygments_lexer": "ipython3",
   "version": "3.11.4"
  },
  "orig_nbformat": 4
 },
 "nbformat": 4,
 "nbformat_minor": 2
}
